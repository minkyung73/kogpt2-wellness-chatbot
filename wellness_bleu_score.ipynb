{
 "cells": [
  {
   "cell_type": "code",
   "execution_count": 3,
   "metadata": {
    "collapsed": true
   },
   "outputs": [],
   "source": [
    "import pandas as pd\n",
    "from sklearn.model_selection import train_test_split"
   ]
  },
  {
   "cell_type": "code",
   "execution_count": 5,
   "outputs": [
    {
     "data": {
      "text/plain": "                                  Q                           A  label\n0                            12시 땡!                  하루가 또 가네요.      0\n1                       1지망 학교 떨어졌어                   위로해 드립니다.      0\n2                      3박4일 놀러가고 싶다                 여행은 언제나 좋죠.      0\n3                   3박4일 정도 놀러가고 싶다                 여행은 언제나 좋죠.      0\n4                           PPL 심하네                  눈살이 찌푸려지죠.      0\n...                             ...                         ...    ...\n27675  약을 끊었더니 증상이 예전보다 더 심해진 것 같아.   정말 힘드시겠어요. 지금도 증상이 심하신가요?      1\n27676  약을 끊었더니 증상이 예전보다 더 심해진 것 같아.  너무 심하시면 병원을 다시 가보는 건 어떨까요?      1\n27677              통증이 점점 심해지는것 같아.    상태가 더 안 좋아지셨군요. 걱정이 되네요.      1\n27678              통증이 점점 심해지는것 같아.   정말 힘드시겠어요. 지금도 증상이 심하신가요?      1\n27679              통증이 점점 심해지는것 같아.  너무 심하시면 병원을 다시 가보는 건 어떨까요?      1\n\n[27680 rows x 3 columns]",
      "text/html": "<div>\n<style scoped>\n    .dataframe tbody tr th:only-of-type {\n        vertical-align: middle;\n    }\n\n    .dataframe tbody tr th {\n        vertical-align: top;\n    }\n\n    .dataframe thead th {\n        text-align: right;\n    }\n</style>\n<table border=\"1\" class=\"dataframe\">\n  <thead>\n    <tr style=\"text-align: right;\">\n      <th></th>\n      <th>Q</th>\n      <th>A</th>\n      <th>label</th>\n    </tr>\n  </thead>\n  <tbody>\n    <tr>\n      <th>0</th>\n      <td>12시 땡!</td>\n      <td>하루가 또 가네요.</td>\n      <td>0</td>\n    </tr>\n    <tr>\n      <th>1</th>\n      <td>1지망 학교 떨어졌어</td>\n      <td>위로해 드립니다.</td>\n      <td>0</td>\n    </tr>\n    <tr>\n      <th>2</th>\n      <td>3박4일 놀러가고 싶다</td>\n      <td>여행은 언제나 좋죠.</td>\n      <td>0</td>\n    </tr>\n    <tr>\n      <th>3</th>\n      <td>3박4일 정도 놀러가고 싶다</td>\n      <td>여행은 언제나 좋죠.</td>\n      <td>0</td>\n    </tr>\n    <tr>\n      <th>4</th>\n      <td>PPL 심하네</td>\n      <td>눈살이 찌푸려지죠.</td>\n      <td>0</td>\n    </tr>\n    <tr>\n      <th>...</th>\n      <td>...</td>\n      <td>...</td>\n      <td>...</td>\n    </tr>\n    <tr>\n      <th>27675</th>\n      <td>약을 끊었더니 증상이 예전보다 더 심해진 것 같아.</td>\n      <td>정말 힘드시겠어요. 지금도 증상이 심하신가요?</td>\n      <td>1</td>\n    </tr>\n    <tr>\n      <th>27676</th>\n      <td>약을 끊었더니 증상이 예전보다 더 심해진 것 같아.</td>\n      <td>너무 심하시면 병원을 다시 가보는 건 어떨까요?</td>\n      <td>1</td>\n    </tr>\n    <tr>\n      <th>27677</th>\n      <td>통증이 점점 심해지는것 같아.</td>\n      <td>상태가 더 안 좋아지셨군요. 걱정이 되네요.</td>\n      <td>1</td>\n    </tr>\n    <tr>\n      <th>27678</th>\n      <td>통증이 점점 심해지는것 같아.</td>\n      <td>정말 힘드시겠어요. 지금도 증상이 심하신가요?</td>\n      <td>1</td>\n    </tr>\n    <tr>\n      <th>27679</th>\n      <td>통증이 점점 심해지는것 같아.</td>\n      <td>너무 심하시면 병원을 다시 가보는 건 어떨까요?</td>\n      <td>1</td>\n    </tr>\n  </tbody>\n</table>\n<p>27680 rows × 3 columns</p>\n</div>"
     },
     "execution_count": 5,
     "metadata": {},
     "output_type": "execute_result"
    }
   ],
   "source": [
    "df = pd.read_csv('./chatbot_dataset_s.csv')\n",
    "df"
   ],
   "metadata": {
    "collapsed": false
   }
  },
  {
   "cell_type": "code",
   "execution_count": 6,
   "outputs": [],
   "source": [
    "data = df[['Q', 'A']]\n",
    "target = df[['label']]\n",
    "\n",
    "x_train, x_test, y_train, y_test = train_test_split(data, target, test_size=0.2, stratify=target, random_state=34)"
   ],
   "metadata": {
    "collapsed": false
   }
  },
  {
   "cell_type": "code",
   "execution_count": 7,
   "outputs": [],
   "source": [
    "train_df = pd.concat([x_train, y_train], axis=1)\n",
    "test_df = pd.concat([x_test, y_test], axis=1)"
   ],
   "metadata": {
    "collapsed": false
   }
  },
  {
   "cell_type": "code",
   "execution_count": 9,
   "outputs": [],
   "source": [
    "train_df.to_csv('./chatbot_dataset_train.csv')\n",
    "test_df.to_csv('./chatbot_dataset_test.csv')"
   ],
   "metadata": {
    "collapsed": false
   }
  },
  {
   "cell_type": "markdown",
   "source": [
    "# BLEU\n",
    "sentence_bleu"
   ],
   "metadata": {
    "collapsed": false
   }
  },
  {
   "cell_type": "code",
   "execution_count": 26,
   "outputs": [
    {
     "ename": "Exception",
     "evalue": "Install MeCab in order to use it: http://konlpy.org/en/latest/install/",
     "output_type": "error",
     "traceback": [
      "\u001B[0;31m---------------------------------------------------------------------------\u001B[0m",
      "\u001B[0;31mNameError\u001B[0m                                 Traceback (most recent call last)",
      "File \u001B[0;32m~/opt/miniconda3/envs/cpu_torch/lib/python3.8/site-packages/konlpy/tag/_mecab.py:77\u001B[0m, in \u001B[0;36mMecab.__init__\u001B[0;34m(self, dicpath)\u001B[0m\n\u001B[1;32m     76\u001B[0m \u001B[38;5;28;01mtry\u001B[39;00m:\n\u001B[0;32m---> 77\u001B[0m     \u001B[38;5;28mself\u001B[39m\u001B[38;5;241m.\u001B[39mtagger \u001B[38;5;241m=\u001B[39m \u001B[43mTagger\u001B[49m(\u001B[38;5;124m'\u001B[39m\u001B[38;5;124m-d \u001B[39m\u001B[38;5;132;01m%s\u001B[39;00m\u001B[38;5;124m'\u001B[39m \u001B[38;5;241m%\u001B[39m dicpath)\n\u001B[1;32m     78\u001B[0m     \u001B[38;5;28mself\u001B[39m\u001B[38;5;241m.\u001B[39mtagset \u001B[38;5;241m=\u001B[39m utils\u001B[38;5;241m.\u001B[39mread_json(\u001B[38;5;124m'\u001B[39m\u001B[38;5;132;01m%s\u001B[39;00m\u001B[38;5;124m/data/tagset/mecab.json\u001B[39m\u001B[38;5;124m'\u001B[39m \u001B[38;5;241m%\u001B[39m utils\u001B[38;5;241m.\u001B[39minstallpath)\n",
      "\u001B[0;31mNameError\u001B[0m: name 'Tagger' is not defined",
      "\nDuring handling of the above exception, another exception occurred:\n",
      "\u001B[0;31mException\u001B[0m                                 Traceback (most recent call last)",
      "Cell \u001B[0;32mIn[26], line 5\u001B[0m\n\u001B[1;32m      2\u001B[0m \u001B[38;5;28;01mfrom\u001B[39;00m \u001B[38;5;21;01mkonlpy\u001B[39;00m\u001B[38;5;21;01m.\u001B[39;00m\u001B[38;5;21;01mtag\u001B[39;00m \u001B[38;5;28;01mimport\u001B[39;00m Mecab\n\u001B[1;32m      3\u001B[0m \u001B[38;5;28;01mfrom\u001B[39;00m \u001B[38;5;21;01mnltk\u001B[39;00m\u001B[38;5;21;01m.\u001B[39;00m\u001B[38;5;21;01mtranslate\u001B[39;00m\u001B[38;5;21;01m.\u001B[39;00m\u001B[38;5;21;01mbleu_score\u001B[39;00m \u001B[38;5;28;01mimport\u001B[39;00m sentence_bleu\n\u001B[0;32m----> 5\u001B[0m mecab \u001B[38;5;241m=\u001B[39m \u001B[43mMecab\u001B[49m\u001B[43m(\u001B[49m\u001B[43m)\u001B[49m\n",
      "File \u001B[0;32m~/opt/miniconda3/envs/cpu_torch/lib/python3.8/site-packages/konlpy/tag/_mecab.py:82\u001B[0m, in \u001B[0;36mMecab.__init__\u001B[0;34m(self, dicpath)\u001B[0m\n\u001B[1;32m     80\u001B[0m     \u001B[38;5;28;01mraise\u001B[39;00m \u001B[38;5;167;01mException\u001B[39;00m(\u001B[38;5;124m'\u001B[39m\u001B[38;5;124mThe MeCab dictionary does not exist at \u001B[39m\u001B[38;5;124m\"\u001B[39m\u001B[38;5;132;01m%s\u001B[39;00m\u001B[38;5;124m\"\u001B[39m\u001B[38;5;124m. Is the dictionary correctly installed?\u001B[39m\u001B[38;5;130;01m\\n\u001B[39;00m\u001B[38;5;124mYou can also try entering the dictionary path when initializing the Mecab class: \u001B[39m\u001B[38;5;124m\"\u001B[39m\u001B[38;5;124mMecab(\u001B[39m\u001B[38;5;130;01m\\'\u001B[39;00m\u001B[38;5;124m/some/dic/path\u001B[39m\u001B[38;5;130;01m\\'\u001B[39;00m\u001B[38;5;124m)\u001B[39m\u001B[38;5;124m\"\u001B[39m\u001B[38;5;124m'\u001B[39m \u001B[38;5;241m%\u001B[39m dicpath)\n\u001B[1;32m     81\u001B[0m \u001B[38;5;28;01mexcept\u001B[39;00m \u001B[38;5;167;01mNameError\u001B[39;00m:\n\u001B[0;32m---> 82\u001B[0m     \u001B[38;5;28;01mraise\u001B[39;00m \u001B[38;5;167;01mException\u001B[39;00m(\u001B[38;5;124m'\u001B[39m\u001B[38;5;124mInstall MeCab in order to use it: http://konlpy.org/en/latest/install/\u001B[39m\u001B[38;5;124m'\u001B[39m)\n",
      "\u001B[0;31mException\u001B[0m: Install MeCab in order to use it: http://konlpy.org/en/latest/install/"
     ]
    }
   ],
   "source": [
    "# https://magicode.tistory.com/62\n",
    "from konlpy.tag import Mecab\n",
    "from nltk.translate.bleu_score import sentence_bleu\n",
    "\n",
    "mecab = Mecab()"
   ],
   "metadata": {
    "collapsed": false
   }
  },
  {
   "cell_type": "code",
   "execution_count": 12,
   "outputs": [],
   "source": [
    "df = pd.read_csv('./chatbot_dataset_train.csv')"
   ],
   "metadata": {
    "collapsed": false
   }
  },
  {
   "cell_type": "code",
   "execution_count": 19,
   "outputs": [
    {
     "ename": "NameError",
     "evalue": "name 'mecab' is not defined",
     "output_type": "error",
     "traceback": [
      "\u001B[0;31m---------------------------------------------------------------------------\u001B[0m",
      "\u001B[0;31mNameError\u001B[0m                                 Traceback (most recent call last)",
      "Cell \u001B[0;32mIn[19], line 2\u001B[0m\n\u001B[1;32m      1\u001B[0m reference \u001B[38;5;241m=\u001B[39m df[[\u001B[38;5;124m'\u001B[39m\u001B[38;5;124mQ\u001B[39m\u001B[38;5;124m'\u001B[39m]]\n\u001B[0;32m----> 2\u001B[0m reference \u001B[38;5;241m=\u001B[39m [mecab\u001B[38;5;241m.\u001B[39mmorphs(s) \u001B[38;5;28;01mfor\u001B[39;00m s \u001B[38;5;129;01min\u001B[39;00m reference]\n\u001B[1;32m      3\u001B[0m candidate \u001B[38;5;241m=\u001B[39m mecab\u001B[38;5;241m.\u001B[39mmorphs(\u001B[38;5;124m'\u001B[39m\u001B[38;5;124m오늘은 기분이 안 좋아\u001B[39m\u001B[38;5;124m'\u001B[39m)\n\u001B[1;32m      5\u001B[0m \u001B[38;5;28mprint\u001B[39m(\u001B[38;5;124mf\u001B[39m\u001B[38;5;124m'\u001B[39m\u001B[38;5;124mreference: \u001B[39m\u001B[38;5;132;01m{\u001B[39;00mreference\u001B[38;5;132;01m}\u001B[39;00m\u001B[38;5;124m'\u001B[39m, )\n",
      "Cell \u001B[0;32mIn[19], line 2\u001B[0m, in \u001B[0;36m<listcomp>\u001B[0;34m(.0)\u001B[0m\n\u001B[1;32m      1\u001B[0m reference \u001B[38;5;241m=\u001B[39m df[[\u001B[38;5;124m'\u001B[39m\u001B[38;5;124mQ\u001B[39m\u001B[38;5;124m'\u001B[39m]]\n\u001B[0;32m----> 2\u001B[0m reference \u001B[38;5;241m=\u001B[39m [\u001B[43mmecab\u001B[49m\u001B[38;5;241m.\u001B[39mmorphs(s) \u001B[38;5;28;01mfor\u001B[39;00m s \u001B[38;5;129;01min\u001B[39;00m reference]\n\u001B[1;32m      3\u001B[0m candidate \u001B[38;5;241m=\u001B[39m mecab\u001B[38;5;241m.\u001B[39mmorphs(\u001B[38;5;124m'\u001B[39m\u001B[38;5;124m오늘은 기분이 안 좋아\u001B[39m\u001B[38;5;124m'\u001B[39m)\n\u001B[1;32m      5\u001B[0m \u001B[38;5;28mprint\u001B[39m(\u001B[38;5;124mf\u001B[39m\u001B[38;5;124m'\u001B[39m\u001B[38;5;124mreference: \u001B[39m\u001B[38;5;132;01m{\u001B[39;00mreference\u001B[38;5;132;01m}\u001B[39;00m\u001B[38;5;124m'\u001B[39m, )\n",
      "\u001B[0;31mNameError\u001B[0m: name 'mecab' is not defined"
     ]
    }
   ],
   "source": [
    "reference = df.Q\n",
    "reference = [mecab.morphs(s) for s in reference]\n",
    "candidate = mecab.morphs('오늘은 기분이 안 좋아')\n",
    "\n",
    "print(f'reference: {reference}', )\n",
    "print('candidate:', candidate)\n",
    "print('BLEU:', sentence_bleu(reference, candidate))"
   ],
   "metadata": {
    "collapsed": false
   }
  },
  {
   "cell_type": "code",
   "execution_count": null,
   "outputs": [],
   "source": [],
   "metadata": {
    "collapsed": false
   }
  }
 ],
 "metadata": {
  "kernelspec": {
   "display_name": "Python 3",
   "language": "python",
   "name": "python3"
  },
  "language_info": {
   "codemirror_mode": {
    "name": "ipython",
    "version": 2
   },
   "file_extension": ".py",
   "mimetype": "text/x-python",
   "name": "python",
   "nbconvert_exporter": "python",
   "pygments_lexer": "ipython2",
   "version": "2.7.6"
  }
 },
 "nbformat": 4,
 "nbformat_minor": 0
}
